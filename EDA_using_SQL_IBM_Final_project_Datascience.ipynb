{
  "nbformat": 4,
  "nbformat_minor": 0,
  "metadata": {
    "colab": {
      "provenance": []
    },
    "kernelspec": {
      "name": "python3",
      "display_name": "Python 3"
    },
    "language_info": {
      "name": "python"
    }
  },
  "cells": [
    {
      "cell_type": "code",
      "source": [],
      "metadata": {
        "id": "rHUHjwZyP303"
      },
      "execution_count": null,
      "outputs": []
    },
    {
      "cell_type": "markdown",
      "source": [
        "##IBM Data Science Final project EDA using SQL"
      ],
      "metadata": {
        "id": "Jp3YkG5vP4nq"
      }
    },
    {
      "cell_type": "markdown",
      "source": [],
      "metadata": {
        "id": "iCvrKo9cDxdI"
      }
    },
    {
      "cell_type": "code",
      "source": [
        "!pip install --force-reinstall ibm_db ibm_db_sa\n",
        "import ibm_db"
      ],
      "metadata": {
        "colab": {
          "base_uri": "https://localhost:8080/"
        },
        "id": "RO2X6622Dxkc",
        "outputId": "26381688-ed40-47e1-f3b8-5fd337083073"
      },
      "execution_count": 1,
      "outputs": [
        {
          "output_type": "stream",
          "name": "stdout",
          "text": [
            "Collecting ibm_db\n",
            "  Downloading ibm_db-3.2.6-cp311-cp311-manylinux_2_17_x86_64.manylinux2014_x86_64.whl.metadata (33 kB)\n",
            "Collecting ibm_db_sa\n",
            "  Downloading ibm_db_sa-0.4.2-py3-none-any.whl.metadata (5.4 kB)\n",
            "Collecting sqlalchemy>=0.7.3 (from ibm_db_sa)\n",
            "  Downloading sqlalchemy-2.0.41-cp311-cp311-manylinux_2_17_x86_64.manylinux2014_x86_64.whl.metadata (9.6 kB)\n",
            "Collecting greenlet>=1 (from sqlalchemy>=0.7.3->ibm_db_sa)\n",
            "  Downloading greenlet-3.2.3-cp311-cp311-manylinux_2_24_x86_64.manylinux_2_28_x86_64.whl.metadata (4.1 kB)\n",
            "Collecting typing-extensions>=4.6.0 (from sqlalchemy>=0.7.3->ibm_db_sa)\n",
            "  Downloading typing_extensions-4.14.0-py3-none-any.whl.metadata (3.0 kB)\n",
            "Downloading ibm_db-3.2.6-cp311-cp311-manylinux_2_17_x86_64.manylinux2014_x86_64.whl (43.8 MB)\n",
            "\u001b[2K   \u001b[90m━━━━━━━━━━━━━━━━━━━━━━━━━━━━━━━━━━━━━━━━\u001b[0m \u001b[32m43.8/43.8 MB\u001b[0m \u001b[31m19.3 MB/s\u001b[0m eta \u001b[36m0:00:00\u001b[0m\n",
            "\u001b[?25hDownloading ibm_db_sa-0.4.2-py3-none-any.whl (31 kB)\n",
            "Downloading sqlalchemy-2.0.41-cp311-cp311-manylinux_2_17_x86_64.manylinux2014_x86_64.whl (3.3 MB)\n",
            "\u001b[2K   \u001b[90m━━━━━━━━━━━━━━━━━━━━━━━━━━━━━━━━━━━━━━━━\u001b[0m \u001b[32m3.3/3.3 MB\u001b[0m \u001b[31m83.7 MB/s\u001b[0m eta \u001b[36m0:00:00\u001b[0m\n",
            "\u001b[?25hDownloading greenlet-3.2.3-cp311-cp311-manylinux_2_24_x86_64.manylinux_2_28_x86_64.whl (585 kB)\n",
            "\u001b[2K   \u001b[90m━━━━━━━━━━━━━━━━━━━━━━━━━━━━━━━━━━━━━━━━\u001b[0m \u001b[32m585.5/585.5 kB\u001b[0m \u001b[31m30.0 MB/s\u001b[0m eta \u001b[36m0:00:00\u001b[0m\n",
            "\u001b[?25hDownloading typing_extensions-4.14.0-py3-none-any.whl (43 kB)\n",
            "\u001b[2K   \u001b[90m━━━━━━━━━━━━━━━━━━━━━━━━━━━━━━━━━━━━━━━━\u001b[0m \u001b[32m43.8/43.8 kB\u001b[0m \u001b[31m3.4 MB/s\u001b[0m eta \u001b[36m0:00:00\u001b[0m\n",
            "\u001b[?25hInstalling collected packages: ibm_db, typing-extensions, greenlet, sqlalchemy, ibm_db_sa\n",
            "  Attempting uninstall: typing-extensions\n",
            "    Found existing installation: typing_extensions 4.14.0\n",
            "    Uninstalling typing_extensions-4.14.0:\n",
            "      Successfully uninstalled typing_extensions-4.14.0\n",
            "  Attempting uninstall: greenlet\n",
            "    Found existing installation: greenlet 3.2.3\n",
            "    Uninstalling greenlet-3.2.3:\n",
            "      Successfully uninstalled greenlet-3.2.3\n",
            "  Attempting uninstall: sqlalchemy\n",
            "    Found existing installation: SQLAlchemy 2.0.41\n",
            "    Uninstalling SQLAlchemy-2.0.41:\n",
            "      Successfully uninstalled SQLAlchemy-2.0.41\n",
            "\u001b[31mERROR: pip's dependency resolver does not currently take into account all the packages that are installed. This behaviour is the source of the following dependency conflicts.\n",
            "torch 2.6.0+cu124 requires nvidia-cublas-cu12==12.4.5.8; platform_system == \"Linux\" and platform_machine == \"x86_64\", but you have nvidia-cublas-cu12 12.5.3.2 which is incompatible.\n",
            "torch 2.6.0+cu124 requires nvidia-cuda-cupti-cu12==12.4.127; platform_system == \"Linux\" and platform_machine == \"x86_64\", but you have nvidia-cuda-cupti-cu12 12.5.82 which is incompatible.\n",
            "torch 2.6.0+cu124 requires nvidia-cuda-nvrtc-cu12==12.4.127; platform_system == \"Linux\" and platform_machine == \"x86_64\", but you have nvidia-cuda-nvrtc-cu12 12.5.82 which is incompatible.\n",
            "torch 2.6.0+cu124 requires nvidia-cuda-runtime-cu12==12.4.127; platform_system == \"Linux\" and platform_machine == \"x86_64\", but you have nvidia-cuda-runtime-cu12 12.5.82 which is incompatible.\n",
            "torch 2.6.0+cu124 requires nvidia-cudnn-cu12==9.1.0.70; platform_system == \"Linux\" and platform_machine == \"x86_64\", but you have nvidia-cudnn-cu12 9.3.0.75 which is incompatible.\n",
            "torch 2.6.0+cu124 requires nvidia-cufft-cu12==11.2.1.3; platform_system == \"Linux\" and platform_machine == \"x86_64\", but you have nvidia-cufft-cu12 11.2.3.61 which is incompatible.\n",
            "torch 2.6.0+cu124 requires nvidia-curand-cu12==10.3.5.147; platform_system == \"Linux\" and platform_machine == \"x86_64\", but you have nvidia-curand-cu12 10.3.6.82 which is incompatible.\n",
            "torch 2.6.0+cu124 requires nvidia-cusolver-cu12==11.6.1.9; platform_system == \"Linux\" and platform_machine == \"x86_64\", but you have nvidia-cusolver-cu12 11.6.3.83 which is incompatible.\n",
            "torch 2.6.0+cu124 requires nvidia-cusparse-cu12==12.3.1.170; platform_system == \"Linux\" and platform_machine == \"x86_64\", but you have nvidia-cusparse-cu12 12.5.1.3 which is incompatible.\n",
            "torch 2.6.0+cu124 requires nvidia-nvjitlink-cu12==12.4.127; platform_system == \"Linux\" and platform_machine == \"x86_64\", but you have nvidia-nvjitlink-cu12 12.5.82 which is incompatible.\u001b[0m\u001b[31m\n",
            "\u001b[0mSuccessfully installed greenlet-3.2.3 ibm_db-3.2.6 ibm_db_sa-0.4.2 sqlalchemy-2.0.41 typing-extensions-4.14.0\n"
          ]
        }
      ]
    },
    {
      "cell_type": "code",
      "source": [],
      "metadata": {
        "id": "aTJn0hXFN5Y8"
      },
      "execution_count": null,
      "outputs": []
    },
    {
      "cell_type": "markdown",
      "source": [],
      "metadata": {
        "id": "6RFqdSBdN65J"
      }
    },
    {
      "cell_type": "code",
      "source": [
        "\n",
        "# Install necessary libraries\n",
        "!pip install --force-reinstall ibm_db ibm_db_sa\n",
        "import ibm_db\n",
        "\n",
        "# Load the SQL extension for Colab\n",
        "%load_ext sql\n",
        "\n",
        "\n",
        "\n",
        "\n",
        "\n"
      ],
      "metadata": {
        "id": "2ab1vosTN7of"
      },
      "execution_count": null,
      "outputs": []
    },
    {
      "cell_type": "markdown",
      "source": [
        "\n",
        "\n",
        "# Establish a connection to your DB2 database\n",
        "# IMPORTANT: Replace 'kfb18401', 'tmdVBFwfLEd0afel',\n",
        "# '55fbc997-9266-4331-afd3-888b05e734c0.bs2io90l08kqb1od8lcg.databases.appdomain.cloud',\n",
        "# '31929', and 'bludb' with your actual DB2 service credentials.\n",
        "# If your database is named differently, update 'bludb' accordingly.\n",
        "\n",
        "\n"
      ],
      "metadata": {
        "id": "A5676dLMOI-e"
      }
    },
    {
      "cell_type": "code",
      "source": [
        "%sql ibm_db_sa://kfb18401:tmdVBFwfLEd0afel@55fbc997-9266-4331-afd3-888b05e734c0.bs2io90l08kqb1od8lcg.databases.appdomain.cloud:31929/bludb?security=SSL"
      ],
      "metadata": {
        "id": "i_igtRc4OPmN"
      },
      "execution_count": null,
      "outputs": []
    },
    {
      "cell_type": "markdown",
      "source": [
        "# Task 1: Display the names of the unique launch sites in the space mission\n",
        "# This query selects all distinct values from the LAUNCH_SITE column.\n"
      ],
      "metadata": {
        "id": "wDhqu50COUKu"
      }
    },
    {
      "cell_type": "code",
      "source": [
        "%sql SELECT DISTINCT LAUNCH_SITE FROM SPACEXDATASET1;"
      ],
      "metadata": {
        "id": "Yyto_azaOcbl"
      },
      "execution_count": null,
      "outputs": []
    },
    {
      "cell_type": "markdown",
      "source": [
        "# Task 2: Display 5 records where launch sites begin with the string 'CCA'\n",
        "# This query filters records where LAUNCH_SITE starts with 'CCA' and limits the output to 5 rows.\n"
      ],
      "metadata": {
        "id": "lHK3XDjwOlnE"
      }
    },
    {
      "cell_type": "code",
      "source": [
        "%sql SELECT * FROM SPACEXDATASET1 WHERE LAUNCH_SITE LIKE 'CCA%' LIMIT 5;"
      ],
      "metadata": {
        "id": "CaMqZlCjOqhJ"
      },
      "execution_count": null,
      "outputs": []
    },
    {
      "cell_type": "markdown",
      "source": [
        "# Task 3: Display the total payload mass carried by boosters launched by NASA (CRS)"
      ],
      "metadata": {
        "id": "1wj6DlkwOdXP"
      }
    },
    {
      "cell_type": "code",
      "source": [
        "%sql SELECT SUM(payload_mass__kg_) AS Total_Payload_Mass_NASA FROM SPACEXDATASET1 WHERE customer='NASA (CRS)';"
      ],
      "metadata": {
        "id": "joUztuQpPKaA"
      },
      "execution_count": null,
      "outputs": []
    },
    {
      "cell_type": "markdown",
      "source": [
        "# Task 4: Display average payload mass carried by booster version F9 v1.1"
      ],
      "metadata": {
        "id": "YFpLNjVUPL3h"
      }
    },
    {
      "cell_type": "code",
      "source": [
        "%sql SELECT AVG(payload_mass__kg_) AS average_payload_mass_F9_v11 FROM SPACEXDATASET1 WHERE booster_version='F9 v1.1';"
      ],
      "metadata": {
        "id": "nXJuPGjqPUbP"
      },
      "execution_count": null,
      "outputs": []
    },
    {
      "cell_type": "markdown",
      "source": [
        "# Task 5: List the date when the first successful landing outcome in ground pad was achieved."
      ],
      "metadata": {
        "id": "BqyYRc72PWb7"
      }
    },
    {
      "cell_type": "code",
      "source": [
        "%sql SELECT MIN(DATE) AS first_successful_landing_date FROM SPACEXDATASET1 WHERE landing__outcome='Success (ground pad)';"
      ],
      "metadata": {
        "id": "_3HK4SkdPYHS"
      },
      "execution_count": null,
      "outputs": []
    },
    {
      "cell_type": "markdown",
      "source": [
        "# Task 6: List the names of the boosters which have success in drone ship and have payload mass greater than 4000 but less than 6000"
      ],
      "metadata": {
        "id": "y5xalgWdPZ8s"
      }
    },
    {
      "cell_type": "code",
      "source": [
        "%sql SELECT booster_version, payload_mass__kg_, landing__outcome FROM SPACEXDATASET1 WHERE landing__outcome='Success (drone ship)' AND payload_mass__kg_ > 4000 AND payload_mass__kg_ < 6000;"
      ],
      "metadata": {
        "id": "ro1MvglDPbrz"
      },
      "execution_count": null,
      "outputs": []
    },
    {
      "cell_type": "markdown",
      "source": [
        "# Task 7: List the total number of successful and failure mission outcomes"
      ],
      "metadata": {
        "id": "HfAV7epgPdjj"
      }
    },
    {
      "cell_type": "code",
      "source": [
        "%sql SELECT mission_outcome, COUNT(mission_outcome) AS Total_number_of_mission_outcomes FROM SPACEXDATASET1 GROUP BY mission_outcome;"
      ],
      "metadata": {
        "id": "Aue32ZC_Pgjx"
      },
      "execution_count": null,
      "outputs": []
    },
    {
      "cell_type": "markdown",
      "source": [
        "# Task 8: List the names of the booster_versions which have carried the maximum payload mass. Use a subquery"
      ],
      "metadata": {
        "id": "CpwtgIx9PhQT"
      }
    },
    {
      "cell_type": "code",
      "source": [
        "%sql SELECT DISTINCT(booster_version), payload_mass__kg_ FROM SPACEXDATASET1 WHERE payload_mass__kg_=(SELECT MAX(payload_mass__kg_) FROM SPACEXDATASET1);"
      ],
      "metadata": {
        "id": "PDtNPNBoPirF"
      },
      "execution_count": null,
      "outputs": []
    },
    {
      "cell_type": "markdown",
      "source": [
        "# Task 9: List the failed landing_outcomes in drone ship, their booster versions, and launch site names for in year 2015"
      ],
      "metadata": {
        "id": "yuxlI3JQPkym"
      }
    },
    {
      "cell_type": "code",
      "source": [
        "%sql SELECT landing__outcome, booster_version, launch_site FROM SPACEXDATASET1 WHERE YEAR(DATE)=2015 AND landing__outcome='Failure (drone ship)';"
      ],
      "metadata": {
        "id": "4oLqkzgGPmTQ"
      },
      "execution_count": null,
      "outputs": []
    },
    {
      "cell_type": "markdown",
      "source": [
        "# Task 10: Rank the count of landing outcomes (such as Failure (drone ship) or Success (ground pad)) between the date 2010-06-04 and 2017-03-20, in descending order"
      ],
      "metadata": {
        "id": "JXTDmEipPouv"
      }
    },
    {
      "cell_type": "code",
      "source": [
        "%sql SELECT landing__outcome, COUNT(*) AS Count_of_landing_outcomes FROM SPACEXDATASET1 WHERE DATE BETWEEN '2010-06-04' AND '2017-03-20' GROUP BY landing__outcome ORDER BY COUNT(*) DESC;"
      ],
      "metadata": {
        "id": "_Cxehfp8PqXa"
      },
      "execution_count": null,
      "outputs": []
    }
  ]
}